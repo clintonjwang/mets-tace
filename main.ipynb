{
 "cells": [
  {
   "cell_type": "markdown",
   "metadata": {},
   "source": [
    "Tumor number t_no is 0-indexed; embo number e_no is 1-indexed. Should be fixed if there is time."
   ]
  },
  {
   "cell_type": "code",
   "execution_count": 1,
   "metadata": {},
   "outputs": [],
   "source": [
    "import pandas as pd"
   ]
  },
  {
   "cell_type": "code",
   "execution_count": 2,
   "metadata": {
    "collapsed": true
   },
   "outputs": [],
   "source": [
    "def init_list_of_lists(dim1=11, dim2=3):\n",
    "    lol = []\n",
    "    for i in range(dim1):\n",
    "        lol.append([0]*dim2)\n",
    "    return lol"
   ]
  },
  {
   "cell_type": "markdown",
   "metadata": {},
   "source": [
    "### Baseline"
   ]
  },
  {
   "cell_type": "code",
   "execution_count": 3,
   "metadata": {},
   "outputs": [],
   "source": [
    "df = pd.read_excel(\"marley's mets.xlsx\", sheetname=\"Segs_Baseline\", index_col=1)\n",
    "bl_cols = [0]*3\n",
    "bl_df = [0]*3\n",
    "for t_no in range(3):\n",
    "    bl_cols[t_no] = [x for x in list(df.columns) if '_T'+str(t_no+1) in x]\n",
    "\n",
    "bl_df[0] = df.dropna(axis=0, subset=[bl_cols[0][1]])\n",
    "bl_df[1] = df.dropna(axis=0, subset=[bl_cols[1][1]])\n",
    "bl_df[2] = df.dropna(axis=0, subset=[bl_cols[2][1]])"
   ]
  },
  {
   "cell_type": "markdown",
   "metadata": {},
   "source": [
    "### Follow-up"
   ]
  },
  {
   "cell_type": "code",
   "execution_count": 4,
   "metadata": {
    "scrolled": true
   },
   "outputs": [],
   "source": [
    "fu1_cols = init_list_of_lists()\n",
    "fu2_cols = init_list_of_lists()\n",
    "fu1_df = init_list_of_lists()\n",
    "fu2_df = init_list_of_lists()\n",
    "\n",
    "for e_no in range(1,11):\n",
    "    df = pd.read_excel(\"marley's mets.xlsx\", sheetname=\"Segs_PostEmbo\"+str(e_no), index_col=0)\n",
    "    \n",
    "    for t_no in range(3):\n",
    "        fu1_cols[e_no][t_no] = [x for x in list(df.columns) if str(e_no)+'1_T'+str(t_no+1) in x]\n",
    "        fu2_cols[e_no][t_no] = [x for x in list(df.columns) if str(e_no)+'2_T'+str(t_no+1) in x]\n",
    "\n",
    "    fu1_df[e_no][0] = df.dropna(axis=0, subset=[fu1_cols[e_no][0][1]])\n",
    "    fu1_df[e_no][1] = df.dropna(axis=0, subset=[fu1_cols[e_no][1][1]])\n",
    "    fu1_df[e_no][2] = df.dropna(axis=0, subset=[fu1_cols[e_no][2][1]])\n",
    "    fu2_df[e_no][0] = df.dropna(axis=0, subset=[fu2_cols[e_no][0][1]])\n",
    "    fu2_df[e_no][1] = df.dropna(axis=0, subset=[fu2_cols[e_no][1][1]])\n",
    "    fu2_df[e_no][2] = df.dropna(axis=0, subset=[fu2_cols[e_no][2][1]])"
   ]
  },
  {
   "cell_type": "markdown",
   "metadata": {},
   "source": [
    "### Transformation"
   ]
  },
  {
   "cell_type": "code",
   "execution_count": 5,
   "metadata": {
    "collapsed": true
   },
   "outputs": [],
   "source": [
    "target_cols = ['MRN', 'Embo Num for Tumor', 'Embo Num for Patient', 'Tumor Number',\n",
    "              'Embo Date', 'Embo Type',\n",
    "              'Pre-Image Date', 'Pre-Image Type',\n",
    "              'Pre-Location', 'Pre-RECIST', 'Pre-mRECIST',\n",
    "              'Pre-Tumor Vol', 'Pre-Enhanced Vol', 'Pre-% Enhancement',\n",
    "              'Post-Image Date', 'Post-Image Type',\n",
    "              'Post-Location', 'Post-RECIST', 'Post-mRECIST',\n",
    "              'Post-Tumor Vol', 'Post-Enhanced Vol', 'Post-% Enhancement']\n",
    "\n",
    "embos = pd.DataFrame(columns=target_cols)"
   ]
  },
  {
   "cell_type": "code",
   "execution_count": 6,
   "metadata": {
    "scrolled": true
   },
   "outputs": [
    {
     "name": "stdout",
     "output_type": "stream",
     "text": [
      "Cannot find F/U imaging for BL T1: 'the label [476710] is not in the [index]'\n",
      "Cannot find F/U imaging for BL T1: 'the label [1965375] is not in the [index]'\n",
      "Cannot find F/U imaging for BL T1: 'the label [3316720] is not in the [index]'\n",
      "Cannot find F/U imaging for BL T1: 'the label [3996068] is not in the [index]'\n",
      "Cannot find F/U imaging for BL T1: 'the label [3691027] is not in the [index]'\n"
     ]
    }
   ],
   "source": [
    "bl_date = \"Baseline 1 Date\"\n",
    "bl_type = \"Baseline 1 Type\"\n",
    "e_no = 1\n",
    "\n",
    "for t_no in range(3):\n",
    "    for mrn in list(bl_df[t_no].index):\n",
    "        row = bl_df[t_no].loc[mrn]\n",
    "        embo_date = row[\"EMBO \" + str(e_no) + \" Date\"]\n",
    "        embo_type = row[\"EMBO \" + str(e_no) + \" Type\"]\n",
    "        pre_img_date = row[\"Baseline 1 Date\"]\n",
    "        pre_img_type = row[\"Baseline 1 Type\"]\n",
    "        pre_data = list(row[bl_cols[t_no]])\n",
    "        \n",
    "        try:\n",
    "            row = fu1_df[1][t_no].loc[mrn]\n",
    "            post_img_date = row[\"Follow-Up \" + str(e_no) + \"-1 Date\"]\n",
    "            post_img_type = row[\"Follow-Up \" + str(e_no) + \"-1 Type\"]\n",
    "            post_data = list(row[fu1_cols[1][t_no]])\n",
    "        except KeyError:\n",
    "            try:\n",
    "                row = fu2_df[1][t_no].loc[mrn]\n",
    "                post_img_date = row[\"Follow-Up \" + str(e_no) + \"-2 Date\"]\n",
    "                post_img_type = row[\"Follow-Up \" + str(e_no) + \"-2 Type\"]\n",
    "                post_data = list(row[fu2_cols[1][t_no]])\n",
    "            except KeyError as e:\n",
    "                print(\"Cannot find F/U imaging for BL T%d: %s\" % (t_no+1, str(e)))\n",
    "                continue\n",
    "        \n",
    "        try:\n",
    "            e_no_tumor = 1 + max(embos[(embos['MRN'] == mrn) & (embos['Tumor Number'] == t_no+1)]['Embo Num for Tumor'])\n",
    "        except ValueError:\n",
    "            e_no_tumor = 1\n",
    "\n",
    "        embos = embos.append(pd.DataFrame([[mrn, e_no_tumor, e_no, t_no+1, embo_date, embo_type,\n",
    "                      pre_img_date, pre_img_type] + pre_data +\n",
    "                      [post_img_date, post_img_type] + post_data], columns=target_cols))"
   ]
  },
  {
   "cell_type": "code",
   "execution_count": 7,
   "metadata": {
    "scrolled": true
   },
   "outputs": [],
   "source": [
    "for e_no in range(2,10):\n",
    "    for t_no in range(3):\n",
    "        for mrn in set(fu1_df[e_no-1][t_no].index).union(set(fu2_df[e_no-1][t_no].index)):\n",
    "            try:\n",
    "                row = fu2_df[e_no-1][t_no].loc[mrn]\n",
    "                pre_img_date = row[\"Follow-Up \" + str(e_no-1) + \"-1 Date\"]\n",
    "                pre_img_type = row[\"Follow-Up \" + str(e_no-1) + \"-1 Type\"]\n",
    "                pre_data = list(row[fu2_cols[e_no-1][t_no]])\n",
    "            except KeyError:\n",
    "                row = fu1_df[e_no-1][t_no].loc[mrn]\n",
    "                pre_img_date = row[\"Follow-Up \" + str(e_no-1) + \"-2 Date\"]\n",
    "                pre_img_type = row[\"Follow-Up \" + str(e_no-1) + \"-2 Type\"]\n",
    "                pre_data = list(row[fu1_cols[e_no-1][t_no]])\n",
    "                \n",
    "            embo_date = row[\"EMBO \" + str(e_no) + \" Date\"]\n",
    "            embo_type = row[\"EMBO \" + str(e_no) + \" Type\"]\n",
    "                \n",
    "            try:\n",
    "                post_img_date = fu1_df[e_no][t_no].loc[mrn][\"Follow-Up \" + str(e_no) + \"-1 Date\"]\n",
    "                post_img_type = fu1_df[e_no][t_no].loc[mrn][\"Follow-Up \" + str(e_no) + \"-1 Type\"]\n",
    "                post_data = list(fu1_df[e_no][t_no].loc[mrn][fu1_cols[e_no][t_no]])\n",
    "            except KeyError:\n",
    "                try:\n",
    "                    post_img_date = fu2_df[e_no][t_no].loc[mrn][\"Follow-Up \" + str(e_no) + \"-2 Date\"]\n",
    "                    post_img_type = fu2_df[e_no][t_no].loc[mrn][\"Follow-Up \" + str(e_no) + \"-2 Type\"]\n",
    "                    post_data = list(fu2_df[e_no][t_no].loc[mrn][fu2_cols[e_no][t_no]])\n",
    "                except KeyError as e:\n",
    "                    continue\n",
    "\n",
    "            try:\n",
    "                e_no_tumor = 1 + max(embos[(embos['MRN'] == mrn) & (embos['Tumor Number'] == t_no+1)]['Embo Num for Tumor'])\n",
    "            except ValueError:\n",
    "                e_no_tumor = 1\n",
    "\n",
    "            embos = embos.append(pd.DataFrame([[mrn, e_no_tumor, e_no, t_no+1, embo_date, embo_type,\n",
    "                          pre_img_date, pre_img_type] + pre_data +\n",
    "                          [post_img_date, post_img_type] + post_data],\n",
    "                          columns=target_cols))"
   ]
  },
  {
   "cell_type": "code",
   "execution_count": null,
   "metadata": {
    "collapsed": true
   },
   "outputs": [],
   "source": []
  }
 ],
 "metadata": {
  "kernelspec": {
   "display_name": "Python 3",
   "language": "python",
   "name": "python3"
  },
  "language_info": {
   "codemirror_mode": {
    "name": "ipython",
    "version": 3
   },
   "file_extension": ".py",
   "mimetype": "text/x-python",
   "name": "python",
   "nbconvert_exporter": "python",
   "pygments_lexer": "ipython3",
   "version": "3.5.0"
  }
 },
 "nbformat": 4,
 "nbformat_minor": 2
}
