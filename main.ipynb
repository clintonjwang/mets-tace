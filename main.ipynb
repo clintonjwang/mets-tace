{
 "cells": [
  {
   "cell_type": "markdown",
   "metadata": {},
   "source": [
    "Tumor number t_no is 0-indexed; embo number e_no is 1-indexed. Should be fixed if there is time."
   ]
  },
  {
   "cell_type": "code",
   "execution_count": 44,
   "metadata": {
    "collapsed": true
   },
   "outputs": [],
   "source": [
    "import pandas as pd\n",
    "import numpy as np"
   ]
  },
  {
   "cell_type": "code",
   "execution_count": 45,
   "metadata": {
    "collapsed": true
   },
   "outputs": [],
   "source": [
    "fname = \"marley's mets.xlsx\"\n",
    "writer = pd.ExcelWriter('output.xlsx')"
   ]
  },
  {
   "cell_type": "code",
   "execution_count": 46,
   "metadata": {
    "collapsed": true
   },
   "outputs": [],
   "source": [
    "def init_list_of_lists(dim1=11, dim2=3):\n",
    "    lol = []\n",
    "    for i in range(dim1):\n",
    "        lol.append([0]*dim2)\n",
    "    return lol"
   ]
  },
  {
   "cell_type": "markdown",
   "metadata": {},
   "source": [
    "### Baseline"
   ]
  },
  {
   "cell_type": "code",
   "execution_count": 4,
   "metadata": {
    "collapsed": true
   },
   "outputs": [],
   "source": [
    "df = pd.read_excel(fname, sheetname=\"Segs_Baseline\", index_col=1)\n",
    "df = df[df[\"QEASL\"] == 1]\n",
    "included_mrns = list(df.index)\n",
    "\n",
    "bl_cols = [0]*3\n",
    "bl_df = [0]*3\n",
    "for t_no in range(1,4):\n",
    "    bl_cols[t_no-1] = [x for x in list(df.columns) if '_T'+str(t_no) in x]\n",
    "\n",
    "bl_df[0] = df.dropna(axis=0, subset=[bl_cols[0][1]])\n",
    "bl_df[1] = df.dropna(axis=0, subset=[bl_cols[1][1]])\n",
    "bl_df[2] = df.dropna(axis=0, subset=[bl_cols[2][1]])"
   ]
  },
  {
   "cell_type": "markdown",
   "metadata": {},
   "source": [
    "### Follow-up"
   ]
  },
  {
   "cell_type": "code",
   "execution_count": 17,
   "metadata": {
    "collapsed": true,
    "scrolled": true
   },
   "outputs": [],
   "source": [
    "fu1_cols = init_list_of_lists()\n",
    "fu2_cols = init_list_of_lists()\n",
    "fu1_df = init_list_of_lists()\n",
    "fu2_df = init_list_of_lists()\n",
    "\n",
    "for e_no in range(1,11):\n",
    "    df = pd.read_excel(fname, sheetname=\"Segs_PostEmbo\"+str(e_no))\n",
    "    \n",
    "    df = df[df[\"EPR_MRN\"].isin(included_mrns)]\n",
    "    df.set_index(\"EPR_MRN\", inplace=True)\n",
    "    \n",
    "    for t_no in range(1,4):\n",
    "        fu1_cols[e_no][t_no-1] = [x for x in list(df.columns) if str(e_no)+'1_T'+str(t_no) in x]\n",
    "        fu2_cols[e_no][t_no-1] = [x for x in list(df.columns) if str(e_no)+'2_T'+str(t_no) in x]\n",
    "\n",
    "    fu1_df[e_no][0] = df.dropna(axis=0, subset=[fu1_cols[e_no][0][1]])\n",
    "    fu1_df[e_no][1] = df.dropna(axis=0, subset=[fu1_cols[e_no][1][1]])\n",
    "    fu1_df[e_no][2] = df.dropna(axis=0, subset=[fu1_cols[e_no][2][1]])\n",
    "    fu2_df[e_no][0] = df.dropna(axis=0, subset=[fu2_cols[e_no][0][1]])\n",
    "    fu2_df[e_no][1] = df.dropna(axis=0, subset=[fu2_cols[e_no][1][1]])\n",
    "    fu2_df[e_no][2] = df.dropna(axis=0, subset=[fu2_cols[e_no][2][1]])"
   ]
  },
  {
   "cell_type": "markdown",
   "metadata": {},
   "source": [
    "### Clinical Data"
   ]
  },
  {
   "cell_type": "code",
   "execution_count": 18,
   "metadata": {
    "collapsed": true
   },
   "outputs": [],
   "source": [
    "clin_cols = ['EPR_MRN',\n",
    " 'DOB',\n",
    " 'Ethnicity',\n",
    " 'Gender',\n",
    " 'DateOfDeath',\n",
    " 'Known_Alive_Date',\n",
    " 'AgeAt1stEmbo',\n",
    " 'TargetLesion_Pre_Post_Available',\n",
    " 'Number_of_TACE',\n",
    " 'Survival_or_Censor_Time_1stEmbo',\n",
    " 'Survival(baseline-death)',\n",
    " '30DaySurvival',\n",
    " 'TACEGroup',\n",
    " 'SurvivalGroup(1=dead)',\n",
    " 'LastEmbo',\n",
    " 'Type',\n",
    " 'Bilirubin',\n",
    " 'Albumin',\n",
    " 'INR',\n",
    " 'Ascites',\n",
    " 'Encephalopathy',\n",
    " 'PS',\n",
    " 'Portal_Invasion',\n",
    " 'IntrahepaticVI',\n",
    " 'ExtrahepaticVI',\n",
    " 'NumberLesions',\n",
    " 'TumorSize',\n",
    " 'TumorDiffusion',\n",
    " 'DistantMetastasis',\n",
    " 'LymphNodeMetastasis',\n",
    " 'HepB',\n",
    " 'HepC',\n",
    " 'HepD',\n",
    " 'HIV',\n",
    " 'Alcohol',\n",
    " 'NASH',\n",
    " 'Crypto',\n",
    " 'Cirrhosis',\n",
    " 'AFP',\n",
    " 'LAB_BASELINE_DIAGNOSTIC_LAST_MODIFIED',\n",
    " 'LAB_BASELINE_DIAGNOSTIC_MODIFIED_BY',\n",
    " 'transplant',\n",
    " 'transplantdate',\n",
    " 'resection',\n",
    " 'resectiondate',\n",
    " 'sorafenib',\n",
    " 'labdate',\n",
    " 'mrdate']"
   ]
  },
  {
   "cell_type": "code",
   "execution_count": 19,
   "metadata": {
    "collapsed": true
   },
   "outputs": [],
   "source": [
    "clin_df = pd.read_excel(fname, sheetname=\"Data\")\n",
    "clin_df.drop(set(clin_df.columns) - set(clin_cols), axis=1, inplace=True)\n",
    "clin_df.dropna(axis=0, subset=[\"EPR_MRN\"], inplace=True)"
   ]
  },
  {
   "cell_type": "code",
   "execution_count": 20,
   "metadata": {
    "collapsed": true
   },
   "outputs": [],
   "source": [
    "clin_df[\"EPR_MRN\"] = clin_df[\"EPR_MRN\"].apply(int)\n",
    "clin_df.set_index(\"EPR_MRN\", inplace=True)\n",
    "clin_df = clin_df.loc[included_mrns]"
   ]
  },
  {
   "cell_type": "markdown",
   "metadata": {},
   "source": [
    "### Transformation"
   ]
  },
  {
   "cell_type": "code",
   "execution_count": 21,
   "metadata": {
    "collapsed": true
   },
   "outputs": [],
   "source": [
    "target_cols = ['MRN', 'Embo Num for Tumor', 'Embo Num for Patient', 'Tumor Number',\n",
    "              'Embo Date', 'Embo Type',\n",
    "              'Pre-Image Date', 'Pre-Image Type',\n",
    "              'Pre-Location', 'Pre-RECIST', 'Pre-mRECIST',\n",
    "              'Pre-Tumor Vol', 'Pre-Enhanced Vol', 'Pre-% Enhancement',\n",
    "              'Post-Image Date', 'Post-Image Type',\n",
    "              'Post-Location', 'Post-RECIST', 'Post-mRECIST',\n",
    "              'Post-Tumor Vol', 'Post-Enhanced Vol', 'Post-% Enhancement']\n",
    "\n",
    "embos = pd.DataFrame(columns=target_cols)"
   ]
  },
  {
   "cell_type": "code",
   "execution_count": 22,
   "metadata": {
    "collapsed": true,
    "scrolled": true
   },
   "outputs": [],
   "source": [
    "bl_date = \"Baseline 1 Date\"\n",
    "bl_type = \"Baseline 1 Type\"\n",
    "e_no = 1\n",
    "\n",
    "for t_no in range(3):\n",
    "    for mrn in list(bl_df[t_no].index):\n",
    "        row = bl_df[t_no].loc[mrn]\n",
    "        embo_date = row[\"EMBO \" + str(e_no) + \" Date\"]\n",
    "        embo_type = row[\"EMBO \" + str(e_no) + \" Type\"]\n",
    "        pre_img_date = row[\"Baseline 1 Date\"]\n",
    "        pre_img_type = row[\"Baseline 1 Type\"]\n",
    "        pre_data = list(row[bl_cols[t_no]])\n",
    "        \n",
    "        try:\n",
    "            row = fu1_df[1][t_no].loc[mrn]\n",
    "            post_img_date = row[\"Follow-Up \" + str(e_no) + \"-1 Date\"]\n",
    "            post_img_type = row[\"Follow-Up \" + str(e_no) + \"-1 Type\"]\n",
    "            post_data = list(row[fu1_cols[1][t_no]])\n",
    "        except KeyError:\n",
    "            try:\n",
    "                row = fu2_df[1][t_no].loc[mrn]\n",
    "                post_img_date = row[\"Follow-Up \" + str(e_no) + \"-2 Date\"]\n",
    "                post_img_type = row[\"Follow-Up \" + str(e_no) + \"-2 Type\"]\n",
    "                post_data = list(row[fu2_cols[1][t_no]])\n",
    "            except KeyError as e:\n",
    "                print(\"Cannot find F/U imaging for BL T%d: %s\" % (t_no+1, str(e)))\n",
    "                continue\n",
    "        \n",
    "        #try:\n",
    "        #    e_no_tumor = 1 + max(embos[(embos['MRN'] == mrn) & (embos['Tumor Number'] == t_no+1)]['Embo Num for Tumor'])\n",
    "        #except ValueError:\n",
    "        #    e_no_tumor = 1\n",
    "\n",
    "        embos = embos.append(pd.DataFrame([[mrn, np.nan, e_no, t_no+1, embo_date, embo_type,\n",
    "                      pre_img_date, pre_img_type] + pre_data +\n",
    "                      [post_img_date, post_img_type] + post_data], columns=target_cols))"
   ]
  },
  {
   "cell_type": "code",
   "execution_count": 23,
   "metadata": {
    "collapsed": true,
    "scrolled": true
   },
   "outputs": [],
   "source": [
    "for e_no in range(2,10):\n",
    "    for t_no in range(3):\n",
    "        for mrn in set(fu1_df[e_no-1][t_no].index).union(set(fu2_df[e_no-1][t_no].index)):\n",
    "            try:\n",
    "                row = fu2_df[e_no-1][t_no].loc[mrn]\n",
    "                pre_img_date = row[\"Follow-Up \" + str(e_no-1) + \"-2 Date\"]\n",
    "                pre_img_type = row[\"Follow-Up \" + str(e_no-1) + \"-2 Type\"]\n",
    "                pre_data = list(row[fu2_cols[e_no-1][t_no]])\n",
    "            except KeyError:\n",
    "                row = fu1_df[e_no-1][t_no].loc[mrn]\n",
    "                pre_img_date = row[\"Follow-Up \" + str(e_no-1) + \"-1 Date\"]\n",
    "                pre_img_type = row[\"Follow-Up \" + str(e_no-1) + \"-1 Type\"]\n",
    "                pre_data = list(row[fu1_cols[e_no-1][t_no]])\n",
    "                \n",
    "            embo_date = row[\"EMBO \" + str(e_no) + \" Date\"]\n",
    "            embo_type = row[\"EMBO \" + str(e_no) + \" Type\"]\n",
    "                \n",
    "            try:\n",
    "                post_img_date = fu1_df[e_no][t_no].loc[mrn][\"Follow-Up \" + str(e_no) + \"-1 Date\"]\n",
    "                post_img_type = fu1_df[e_no][t_no].loc[mrn][\"Follow-Up \" + str(e_no) + \"-1 Type\"]\n",
    "                post_data = list(fu1_df[e_no][t_no].loc[mrn][fu1_cols[e_no][t_no]])\n",
    "            except KeyError:\n",
    "                try:\n",
    "                    post_img_date = fu2_df[e_no][t_no].loc[mrn][\"Follow-Up \" + str(e_no) + \"-2 Date\"]\n",
    "                    post_img_type = fu2_df[e_no][t_no].loc[mrn][\"Follow-Up \" + str(e_no) + \"-2 Type\"]\n",
    "                    post_data = list(fu2_df[e_no][t_no].loc[mrn][fu2_cols[e_no][t_no]])\n",
    "                except KeyError as e:\n",
    "                    continue\n",
    "\n",
    "            #try:\n",
    "            #    e_no_tumor = 1 + max(embos[(embos['MRN'] == mrn) & (embos['Tumor Number'] == t_no+1)]['Embo Num for Tumor'])\n",
    "            #except ValueError:\n",
    "            #    e_no_tumor = 1\n",
    "\n",
    "            embos = embos.append(pd.DataFrame([[mrn, np.nan, e_no, t_no+1, embo_date, embo_type,\n",
    "                          pre_img_date, pre_img_type] + pre_data +\n",
    "                          [post_img_date, post_img_type] + post_data],\n",
    "                          columns=target_cols))"
   ]
  },
  {
   "cell_type": "markdown",
   "metadata": {},
   "source": [
    "Mark as questionable if this tumor has already been embolized, and another tumor was embolized in the same operation."
   ]
  },
  {
   "cell_type": "code",
   "execution_count": 24,
   "metadata": {
    "collapsed": true,
    "scrolled": true
   },
   "outputs": [],
   "source": [
    "def interrogate(row):\n",
    "    \"\"\"Mark embo rows that might not be true embos.\n",
    "    This includes embos that meet the following criteria:\n",
    "    - At least one other tumor was embolized in the same operation\n",
    "    - This is not the first or last embo for this tumor\n",
    "    \"\"\"\n",
    "    mrn_subset = embos[embos[\"MRN\"] == row[\"MRN\"]]\n",
    "    max_embo = max(mrn_subset[mrn_subset[\"Tumor Number\"] == row[\"Tumor Number\"]][\"Embo Num for Patient\"])\n",
    "    \n",
    "    return len(mrn_subset[mrn_subset[\"Embo Num for Patient\"] == row[\"Embo Num for Patient\"]]) > 1 and \\\n",
    "           1 < row[\"Embo Num for Tumor\"] < max_embo\n",
    "    \n",
    "embos[\"Questionable\"] = embos.apply(lambda row: interrogate(row), axis=1)"
   ]
  },
  {
   "cell_type": "markdown",
   "metadata": {},
   "source": [
    "Renumber the tumor embos after filtering the questionable column"
   ]
  },
  {
   "cell_type": "code",
   "execution_count": 25,
   "metadata": {
    "collapsed": true,
    "scrolled": true
   },
   "outputs": [],
   "source": [
    "def renumber(row):\n",
    "    if row[\"Questionable\"]:\n",
    "        return np.nan\n",
    "    \n",
    "    ls = list(embos[(embos[\"Questionable\"] == False) & (embos[\"MRN\"] == row[\"MRN\"]) &\n",
    "             (embos[\"Tumor Number\"] == row[\"Tumor Number\"])][\"Embo Num for Patient\"])\n",
    "    \n",
    "    return sorted(ls).index(row[\"Embo Num for Patient\"]) + 1\n",
    "\n",
    "\n",
    "embos[\"Embo Num for Tumor\"] = embos.apply(lambda row: renumber(row), axis=1)"
   ]
  },
  {
   "cell_type": "code",
   "execution_count": 26,
   "metadata": {
    "collapsed": true,
    "scrolled": true
   },
   "outputs": [],
   "source": [
    "criteria = [\"RECIST\", \"mRECIST\", \"Tumor Vol\", \"Enhanced Vol\"]\n",
    "pr_cutoffs = {\"RECIST\": 0.7, \"mRECIST\": 0.7, \"Tumor Vol\": 0.35, \"Enhanced Vol\": 0.35}\n",
    "pd_cutoffs = {\"RECIST\": 1.2, \"mRECIST\": 1.2, \"Tumor Vol\": 1.73, \"Enhanced Vol\": 1.73}\n",
    "cr_cutoffs = {\"RECIST\": 0.1, \"mRECIST\": 0.1, \"Tumor Vol\": 0.05, \"Enhanced Vol\": 0.05}\n",
    "\n",
    "def assess_response(row, category):\n",
    "    if row[\"Post-\"+category] <= cr_cutoffs[category] * row[\"Pre-\"+category]:\n",
    "        return \"CR\"\n",
    "    elif row[\"Post-\"+category] <= pr_cutoffs[category] * row[\"Pre-\"+category]:\n",
    "        return \"PR\"\n",
    "    elif row[\"Post-\"+category] >= pd_cutoffs[category] * row[\"Pre-\"+category]:\n",
    "        return \"PD\"\n",
    "    else:\n",
    "        return \"SD\"\n",
    "\n",
    "for category in criteria:\n",
    "    embos = embos[embos[\"Pre-\"+category].apply(lambda x: type(x) == float)]\n",
    "    embos = embos[embos[\"Post-\"+category].apply(lambda x: type(x) == float)]\n",
    "    embos[\"Response: \"+category] = embos.apply(lambda row: assess_response(row, category), axis=1)"
   ]
  },
  {
   "cell_type": "code",
   "execution_count": 27,
   "metadata": {
    "collapsed": true
   },
   "outputs": [],
   "source": [
    "embos.to_excel(writer, sheet_name='Embos', index=False)"
   ]
  },
  {
   "cell_type": "markdown",
   "metadata": {},
   "source": [
    "## Patient-level analysis"
   ]
  },
  {
   "cell_type": "code",
   "execution_count": 28,
   "metadata": {
    "collapsed": true
   },
   "outputs": [],
   "source": [
    "embos = embos[embos[\"Questionable\"] == False]"
   ]
  },
  {
   "cell_type": "code",
   "execution_count": 29,
   "metadata": {
    "collapsed": true
   },
   "outputs": [],
   "source": [
    "target_cols = ['MRN', 'Total Embos', 'Total Tumors'] + \\\n",
    "               ['Total Pre-'+category for category in criteria] + \\\n",
    "               ['Total Post-'+category for category in criteria] + \\\n",
    "               ['Responder: '+category for category in criteria]\n",
    "\n",
    "patients = pd.DataFrame(columns=target_cols)"
   ]
  },
  {
   "cell_type": "code",
   "execution_count": 30,
   "metadata": {
    "collapsed": true,
    "scrolled": true
   },
   "outputs": [],
   "source": [
    "for mrn in set(embos[\"MRN\"]):\n",
    "    subset = embos[embos[\"MRN\"] == mrn]\n",
    "    tot_e = max(subset[\"Embo Num for Patient\"])\n",
    "    tot_t = max(subset[\"Tumor Number\"])\n",
    "\n",
    "    for category in criteria:\n",
    "        embos = embos[embos[\"Pre-\"+category].apply(lambda x: type(x) == float)]\n",
    "        embos = embos[embos[\"Post-\"+category].apply(lambda x: type(x) == float)]\n",
    "        embos[\"Response: \"+category] = embos.apply(lambda row: assess_response(row, category), axis=1)\n",
    "    \n",
    "    tot_pre_value = {}\n",
    "    for category in criteria:\n",
    "        tot_pre_value[category] = sum(subset[subset[\"Embo Num for Tumor\"] == 1][\"Pre-\"+category])\n",
    "        \n",
    "    tot_post_value = dict(zip(criteria, [0,0,0,0]))\n",
    "    responder = dict(zip(criteria, [True, True, True, True]))\n",
    "    for t_no in range(tot_t):\n",
    "        t_subset = subset[subset[\"Tumor Number\"] == t_no+1]\n",
    "        \n",
    "        if len(t_subset) == 0: # some t_nos are missing because they had non-numeric entries and were excluded\n",
    "            continue\n",
    "            \n",
    "        max_embo = max(t_subset[\"Embo Num for Tumor\"])\n",
    "\n",
    "        for category in criteria:\n",
    "            tot_post_value[category] += sum(t_subset[t_subset[\"Embo Num for Tumor\"] == max_embo][\"Post-\"+category])\n",
    "            \n",
    "            try:\n",
    "                if len(t_subset[(t_subset[\"Embo Num for Tumor\"] == max_embo) &\n",
    "                                (t_subset[\"Response: \"+category] == \"PD\")]) > 0:\n",
    "                    responder[category] = False # non-responder if any of the final embos on a tumor were \"unsuccessful\"\n",
    "            except:\n",
    "                responder[category] = np.nan\n",
    "        \n",
    "    new_row = pd.DataFrame([[mrn, tot_e, tot_t] +\n",
    "                            [tot_pre_value[category] for category in criteria] +\n",
    "                            [tot_post_value[category] for category in criteria] +\n",
    "                            [responder[category] for category in criteria]],\n",
    "                            columns=target_cols)\n",
    "    \n",
    "    patients = patients.append(new_row)"
   ]
  },
  {
   "cell_type": "code",
   "execution_count": 31,
   "metadata": {
    "collapsed": true
   },
   "outputs": [],
   "source": [
    "patients.set_index(\"MRN\", inplace=True)"
   ]
  },
  {
   "cell_type": "code",
   "execution_count": 32,
   "metadata": {
    "collapsed": true,
    "scrolled": true
   },
   "outputs": [],
   "source": [
    "patients = pd.concat([patients, clin_df], axis=1)"
   ]
  },
  {
   "cell_type": "markdown",
   "metadata": {},
   "source": [
    "## Scenario analysis"
   ]
  },
  {
   "cell_type": "code",
   "execution_count": 33,
   "metadata": {
    "collapsed": true
   },
   "outputs": [],
   "source": [
    "target_cols = ['MRN', 'Tumor Number', 'Number of Embos'] + \\\n",
    "              ['Initial Pre-'+category for category in criteria] + \\\n",
    "              ['Final Post-'+category for category in criteria] + \\\n",
    "              ['Days btwn embo %d and %d' % (x, x+1) for x in range(1,7)] + \\\n",
    "              ['Days btwn embo %d post image and embo %d pre image' % (x, x+1) for x in range(1,7)] + \\\n",
    "              ['Progression (enhanced vol) btwn embo %d post image and embo %d pre image' % (x, x+1) for x in range(1,7)]\n",
    "\n",
    "tumors = pd.DataFrame(columns=target_cols)"
   ]
  },
  {
   "cell_type": "code",
   "execution_count": 34,
   "metadata": {
    "collapsed": true
   },
   "outputs": [],
   "source": [
    "def get_diffs(t_subset, e_no, embo_diff):\n",
    "    dt_embo = (t_subset[t_subset[\"Embo Num for Tumor\"] == e_no + embo_diff][\"Embo Date\"] -\n",
    "                       t_subset[t_subset[\"Embo Num for Tumor\"] == e_no][\"Embo Date\"])[0].days\n",
    "\n",
    "    dt_img = (t_subset[t_subset[\"Embo Num for Tumor\"] == e_no + embo_diff][\"Pre-Image Date\"] -\n",
    "                      t_subset[t_subset[\"Embo Num for Tumor\"] == e_no][\"Post-Image Date\"])[0].days\n",
    "\n",
    "    if dt_img != 0:\n",
    "        tumor_change = (t_subset[t_subset[\"Embo Num for Tumor\"] == e_no + embo_diff][\"Pre-Enhanced Vol\"] / \\\n",
    "                                t_subset[t_subset[\"Embo Num for Tumor\"] == e_no][\"Post-Enhanced Vol\"])[0]\n",
    "        if tumor_change == 0:\n",
    "            tumor_change = \"Missing\"\n",
    "    else:\n",
    "        tumor_change = np.nan\n",
    "        \n",
    "    return dt_embo, dt_img, tumor_change"
   ]
  },
  {
   "cell_type": "code",
   "execution_count": 35,
   "metadata": {
    "collapsed": true
   },
   "outputs": [],
   "source": [
    "for mrn in set(embos[\"MRN\"]):\n",
    "    mrn_subset = embos[embos[\"MRN\"] == mrn]\n",
    "    tot_t = max(mrn_subset[\"Tumor Number\"])\n",
    "    \n",
    "    for t_no in range(tot_t):\n",
    "        t_subset = mrn_subset[mrn_subset[\"Tumor Number\"] == t_no]\n",
    "        \n",
    "        if len(t_subset) == 0:\n",
    "            continue\n",
    "            \n",
    "        max_embo = max(t_subset[\"Embo Num for Tumor\"])\n",
    "\n",
    "        init_pre_value = dict(zip(criteria, [np.nan]*4))\n",
    "        last_post_value = dict(zip(criteria, [np.nan]*4))\n",
    "        for category in criteria:\n",
    "            try:\n",
    "                init_pre_value[category] = t_subset[t_subset[\"Embo Num for Tumor\"] == 1][\"Pre-\"+category][0]\n",
    "            except: #missing data\n",
    "                continue\n",
    "            last_post_value[category] = t_subset[t_subset[\"Embo Num for Tumor\"] == max_embo][\"Post-\"+category][0]\n",
    "        \n",
    "        dt_embo = [np.nan]*7\n",
    "        dt_img = [np.nan]*7\n",
    "        tumor_change = [np.nan]*7\n",
    "        for e_no in range(1,max_embo):\n",
    "            dt_embo[e_no-1], dt_img[e_no-1], tumor_change[e_no-1] = get_diffs(t_subset, e_no, 1)\n",
    "        \n",
    "        new_row = pd.DataFrame([[mrn, t_no, max_embo] +\n",
    "                                [init_pre_value[category] for category in criteria] +\n",
    "                                [last_post_value[category] for category in criteria] +\n",
    "                                [dt_embo[x] for x in range(6)] +\n",
    "                                [dt_img[x] for x in range(6)] +\n",
    "                                [tumor_change[x] for x in range(6)]],\n",
    "                                columns=target_cols)\n",
    "\n",
    "        tumors = tumors.append(new_row)"
   ]
  },
  {
   "cell_type": "code",
   "execution_count": 36,
   "metadata": {
    "collapsed": true
   },
   "outputs": [],
   "source": [
    "tumors.to_excel(writer, sheet_name='Tumors', index=False)"
   ]
  },
  {
   "cell_type": "code",
   "execution_count": 37,
   "metadata": {
    "collapsed": true,
    "scrolled": true
   },
   "outputs": [],
   "source": [
    "def categorize_intent(row, embos, time_cutoff=90):  \n",
    "    if row[\"Total Tumors\"] == 1:\n",
    "        return \"Single lesion planned\"\n",
    "\n",
    "    elif row[\"Total Tumors\"] == 2:\n",
    "        mrn_subset = embos[embos[\"MRN\"] == row[\"MRN\"]]\n",
    "\n",
    "        min_embo = min(mrn_subset[\"Embo Num for Patient\"])\n",
    "        first_t_no = mrn_subset[mrn_subset[\"Embo Num for Patient\"] == min_embo][\"Tumor Number\"]\n",
    "\n",
    "        if len(first_t_no) > 1:\n",
    "            return \"Multiple lesions planned simultaneously\"\n",
    "        first_t_no = first_t_no[0]\n",
    "\n",
    "        t1_subset = mrn_subset[mrn_subset[\"Tumor Number\"] == first_t_no]\n",
    "        t2_subset = mrn_subset[mrn_subset[\"Tumor Number\"] == (2 if first_t_no == 1 else 1)]\n",
    "\n",
    "        first_embo_for_t2 = t2_subset[t2_subset[\"Embo Num for Tumor\"] == 1]\n",
    "        date_of_t2_embo = first_embo_for_t2[\"Embo Date\"]\n",
    "\n",
    "        prev_embo_for_t1 = t1_subset[t1_subset[\"Embo Num for Patient\"] == \\\n",
    "                            first_embo_for_t2[\"Embo Num for Patient\"][0] - 1]\n",
    "        date_of_t1_embo = prev_embo_for_t1[\"Embo Date\"]\n",
    "\n",
    "        if (date_of_t2_embo - date_of_t1_embo)[0].days > time_cutoff:\n",
    "            return \"Multiple lesions unplanned\"\n",
    "        else:\n",
    "            return \"Multiple lesions planned sequentially\"\n",
    "\n",
    "    else:\n",
    "        return \"3 lesions\""
   ]
  },
  {
   "cell_type": "code",
   "execution_count": 38,
   "metadata": {
    "collapsed": true
   },
   "outputs": [],
   "source": [
    "patients.reset_index(inplace=True)"
   ]
  },
  {
   "cell_type": "code",
   "execution_count": 39,
   "metadata": {
    "collapsed": true
   },
   "outputs": [],
   "source": [
    "patients.rename(columns = {'index':'MRN'}, inplace = True)"
   ]
  },
  {
   "cell_type": "code",
   "execution_count": 40,
   "metadata": {
    "collapsed": true,
    "scrolled": true
   },
   "outputs": [],
   "source": [
    "patients['Category'] = patients.apply(lambda row: categorize_intent(row, embos), axis=1)"
   ]
  },
  {
   "cell_type": "code",
   "execution_count": 41,
   "metadata": {
    "collapsed": true
   },
   "outputs": [],
   "source": [
    "patients.to_excel(writer, sheet_name='Patients', index=False)"
   ]
  },
  {
   "cell_type": "code",
   "execution_count": 43,
   "metadata": {
    "collapsed": true,
    "scrolled": true
   },
   "outputs": [],
   "source": [
    "writer.save()"
   ]
  },
  {
   "cell_type": "code",
   "execution_count": null,
   "metadata": {
    "collapsed": true
   },
   "outputs": [],
   "source": []
  },
  {
   "cell_type": "code",
   "execution_count": null,
   "metadata": {
    "collapsed": true
   },
   "outputs": [],
   "source": []
  },
  {
   "cell_type": "code",
   "execution_count": null,
   "metadata": {
    "collapsed": true
   },
   "outputs": [],
   "source": []
  },
  {
   "cell_type": "code",
   "execution_count": null,
   "metadata": {
    "collapsed": true
   },
   "outputs": [],
   "source": []
  },
  {
   "cell_type": "code",
   "execution_count": 37,
   "metadata": {
    "collapsed": true
   },
   "outputs": [],
   "source": [
    "import matplotlib.pyplot as plt"
   ]
  },
  {
   "cell_type": "code",
   "execution_count": 52,
   "metadata": {
    "collapsed": true
   },
   "outputs": [],
   "source": [
    "%matplotlib inline"
   ]
  },
  {
   "cell_type": "code",
   "execution_count": 47,
   "metadata": {
    "collapsed": true
   },
   "outputs": [],
   "source": [
    "dt = []\n",
    "for x in range(1,7):\n",
    "    dt.append(tumors['Days btwn embo %d and %d' % (x, x+1)].dropna().values)\n",
    "dt = [x for ls in dt for x in ls]"
   ]
  },
  {
   "cell_type": "code",
   "execution_count": 55,
   "metadata": {},
   "outputs": [
    {
     "data": {
      "text/plain": [
       "(array([ 52.,  15.,   5.,   6.,   3.,   0.,   1.,   0.,   2.,   0.,   0.,\n",
       "          1.,   1.,   0.,   0.,   0.,   0.,   1.,   0.,   1.,   0.,   0.,\n",
       "          1.,   0.,   0.,   0.,   0.,   0.,   0.,   0.,   1.,   0.,   0.,\n",
       "          0.,   0.,   0.,   0.,   0.,   0.,   0.,   1.,   0.,   0.,   0.,\n",
       "          0.,   0.,   0.,   0.,   0.,   1.]),\n",
       " array([   28.  ,    69.66,   111.32,   152.98,   194.64,   236.3 ,\n",
       "          277.96,   319.62,   361.28,   402.94,   444.6 ,   486.26,\n",
       "          527.92,   569.58,   611.24,   652.9 ,   694.56,   736.22,\n",
       "          777.88,   819.54,   861.2 ,   902.86,   944.52,   986.18,\n",
       "         1027.84,  1069.5 ,  1111.16,  1152.82,  1194.48,  1236.14,\n",
       "         1277.8 ,  1319.46,  1361.12,  1402.78,  1444.44,  1486.1 ,\n",
       "         1527.76,  1569.42,  1611.08,  1652.74,  1694.4 ,  1736.06,\n",
       "         1777.72,  1819.38,  1861.04,  1902.7 ,  1944.36,  1986.02,\n",
       "         2027.68,  2069.34,  2111.  ]),\n",
       " <a list of 50 Patch objects>)"
      ]
     },
     "execution_count": 55,
     "metadata": {},
     "output_type": "execute_result"
    },
    {
     "data": {
      "image/png": "[encoded data removed]",
      "text/plain": [
       "<matplotlib.figure.Figure at 0x1d59eb07160>"
      ]
     },
     "metadata": {},
     "output_type": "display_data"
    }
   ],
   "source": [
    "plt.hist(dt, bins=50)"
   ]
  },
  {
   "cell_type": "code",
   "execution_count": null,
   "metadata": {
    "collapsed": true
   },
   "outputs": [],
   "source": []
  }
 ],
 "metadata": {
  "kernelspec": {
   "display_name": "Python 3",
   "language": "python",
   "name": "python3"
  },
  "language_info": {
   "codemirror_mode": {
    "name": "ipython",
    "version": 3
   },
   "file_extension": ".py",
   "mimetype": "text/x-python",
   "name": "python",
   "nbconvert_exporter": "python",
   "pygments_lexer": "ipython3",
   "version": "3.5.0"
  }
 },
 "nbformat": 4,
 "nbformat_minor": 2
}
