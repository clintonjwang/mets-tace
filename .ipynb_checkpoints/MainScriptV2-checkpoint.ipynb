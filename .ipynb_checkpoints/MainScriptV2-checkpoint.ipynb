{
 "cells": [
  {
   "cell_type": "markdown",
   "metadata": {},
   "source": [
    "Tumor number t_no is 0-indexed; embo number e_no is 1-indexed. Should be fixed if there is time."
   ]
  },
  {
   "cell_type": "code",
   "execution_count": 1,
   "metadata": {},
   "outputs": [
    {
     "name": "stderr",
     "output_type": "stream",
     "text": [
      "C:\\Users\\Clinton\\AppData\\Local\\conda\\conda\\envs\\old-keras\\lib\\site-packages\\statsmodels\\compat\\pandas.py:56: FutureWarning: The pandas.core.datetools module is deprecated and will be removed in a future version. Please use the pandas.tseries module instead.\n",
      "  from pandas.core import datetools\n"
     ]
    }
   ],
   "source": [
    "import pandas as pd\n",
    "import numpy as np\n",
    "from sklearn.linear_model import LogisticRegression\n",
    "import statsmodels.api as sm"
   ]
  },
  {
   "cell_type": "code",
   "execution_count": 2,
   "metadata": {
    "collapsed": true
   },
   "outputs": [],
   "source": [
    "fname = \"marley's mets.xlsx\"#r\"C:\\Users\\Marley\\Desktop\\Projects\\MetsProject\\Combined_Spreadsheet_All_mets_6_GroupVersion_9_5_2017.xlsx\"\n",
    "writer = pd.ExcelWriter('output.xlsx')"
   ]
  },
  {
   "cell_type": "code",
   "execution_count": 3,
   "metadata": {
    "collapsed": true
   },
   "outputs": [],
   "source": [
    "def init_list_of_lists(dim1=11, dim2=3):\n",
    "    lol = []\n",
    "    for i in range(dim1):\n",
    "        lol.append([0]*dim2)\n",
    "    return lol"
   ]
  },
  {
   "cell_type": "markdown",
   "metadata": {},
   "source": [
    "### Baseline"
   ]
  },
  {
   "cell_type": "code",
   "execution_count": 4,
   "metadata": {
    "collapsed": true
   },
   "outputs": [],
   "source": [
    "df = pd.read_excel(fname, sheetname=\"Segs_Baseline\", index_col=1)\n",
    "df = df[df[\"QEASL\"] == 1]\n",
    "included_mrns = list(df.index)\n",
    "\n",
    "bl_cols = [0]*3\n",
    "bl_df = [0]*3\n",
    "for t_no in range(1,4):\n",
    "    bl_cols[t_no-1] = [x for x in list(df.columns) if '_T'+str(t_no) in x]\n",
    "\n",
    "bl_df[0] = df.dropna(axis=0, subset=[bl_cols[0][1]])\n",
    "bl_df[1] = df.dropna(axis=0, subset=[bl_cols[1][1]])\n",
    "bl_df[2] = df.dropna(axis=0, subset=[bl_cols[2][1]])"
   ]
  },
  {
   "cell_type": "markdown",
   "metadata": {},
   "source": [
    "### Follow-up"
   ]
  },
  {
   "cell_type": "code",
   "execution_count": 5,
   "metadata": {
    "collapsed": true,
    "scrolled": true
   },
   "outputs": [],
   "source": [
    "fu1_cols = init_list_of_lists()\n",
    "fu2_cols = init_list_of_lists()\n",
    "fu1_df = init_list_of_lists()\n",
    "fu2_df = init_list_of_lists()\n",
    "\n",
    "for e_no in range(1,11):\n",
    "    df = pd.read_excel(fname, sheetname=\"Segs_PostEmbo\"+str(e_no))\n",
    "    \n",
    "    df = df[df[\"EPR_MRN\"].isin(included_mrns)]\n",
    "    df.set_index(\"EPR_MRN\", inplace=True)\n",
    "    \n",
    "    for t_no in range(1,4):\n",
    "        fu1_cols[e_no][t_no-1] = [x for x in list(df.columns) if str(e_no)+'1_T'+str(t_no) in x]\n",
    "        fu2_cols[e_no][t_no-1] = [x for x in list(df.columns) if str(e_no)+'2_T'+str(t_no) in x]\n",
    "\n",
    "    fu1_df[e_no][0] = df.dropna(axis=0, subset=[fu1_cols[e_no][0][1]])\n",
    "    fu1_df[e_no][1] = df.dropna(axis=0, subset=[fu1_cols[e_no][1][1]])\n",
    "    fu1_df[e_no][2] = df.dropna(axis=0, subset=[fu1_cols[e_no][2][1]])\n",
    "    fu2_df[e_no][0] = df.dropna(axis=0, subset=[fu2_cols[e_no][0][1]])\n",
    "    fu2_df[e_no][1] = df.dropna(axis=0, subset=[fu2_cols[e_no][1][1]])\n",
    "    fu2_df[e_no][2] = df.dropna(axis=0, subset=[fu2_cols[e_no][2][1]])"
   ]
  },
  {
   "cell_type": "markdown",
   "metadata": {},
   "source": [
    "### Clinical Data"
   ]
  },
  {
   "cell_type": "code",
   "execution_count": 6,
   "metadata": {
    "collapsed": true
   },
   "outputs": [],
   "source": [
    "clin_cols = ['EPR_MRN',\n",
    " 'DOB',\n",
    " 'Ethnicity',\n",
    " 'Gender',\n",
    " 'DateOfDeath',\n",
    " 'Known_Alive_Date',\n",
    " 'AgeAt1stEmbo',\n",
    " 'TargetLesion_Pre_Post_Available',\n",
    " 'Number_of_TACE',\n",
    " 'Survival_or_Censor_Time_1stEmbo',\n",
    " 'Survival(baseline-death)',\n",
    " '30DaySurvival',\n",
    " 'TACEGroup',\n",
    " 'SurvivalGroup(1=dead)',\n",
    " 'LastEmbo',\n",
    " 'Type',\n",
    " 'Bilirubin',\n",
    " 'Albumin',\n",
    " 'INR',\n",
    " 'Ascites',\n",
    " 'Encephalopathy',\n",
    " 'PS',\n",
    " 'Portal_Invasion',\n",
    " 'IntrahepaticVI',\n",
    " 'ExtrahepaticVI',\n",
    " 'NumberLesions',\n",
    " 'TumorSize',\n",
    " 'TumorDiffusion',\n",
    " 'DistantMetastasis',\n",
    " 'LymphNodeMetastasis',\n",
    " 'HepB',\n",
    " 'HepC',\n",
    " 'HepD',\n",
    " 'HIV',\n",
    " 'Alcohol',\n",
    " 'NASH',\n",
    " 'Crypto',\n",
    " 'Cirrhosis',\n",
    " 'AFP',\n",
    " 'LAB_BASELINE_DIAGNOSTIC_LAST_MODIFIED',\n",
    " 'LAB_BASELINE_DIAGNOSTIC_MODIFIED_BY',\n",
    " 'transplant',\n",
    " 'transplantdate',\n",
    " 'resection',\n",
    " 'resectiondate',\n",
    " 'sorafenib',\n",
    " 'labdate',\n",
    " 'mrdate']"
   ]
  },
  {
   "cell_type": "code",
   "execution_count": 7,
   "metadata": {
    "collapsed": true
   },
   "outputs": [],
   "source": [
    "clin_df = pd.read_excel(fname, sheetname=\"Data\")\n",
    "clin_df.drop(set(clin_df.columns) - set(clin_cols), axis=1, inplace=True)\n",
    "clin_df.dropna(axis=0, subset=[\"EPR_MRN\"], inplace=True)"
   ]
  },
  {
   "cell_type": "code",
   "execution_count": 8,
   "metadata": {
    "collapsed": true
   },
   "outputs": [],
   "source": [
    "clin_df[\"EPR_MRN\"] = clin_df[\"EPR_MRN\"].apply(int)\n",
    "clin_df.set_index(\"EPR_MRN\", inplace=True)\n",
    "clin_df = clin_df.loc[included_mrns]"
   ]
  },
  {
   "cell_type": "markdown",
   "metadata": {},
   "source": [
    "### Transformation"
   ]
  },
  {
   "cell_type": "code",
   "execution_count": 9,
   "metadata": {
    "collapsed": true
   },
   "outputs": [],
   "source": [
    "target_cols = ['MRN', 'Embo Num for Tumor', 'Embo Num for Patient', 'Tumor Number',\n",
    "              'Embo Date', 'Embo Type',\n",
    "              'Pre-Image Date', 'Pre-Image Type',\n",
    "              'Pre-Location', 'Pre-RECIST', 'Pre-mRECIST',\n",
    "              'Pre-Tumor Vol', 'Pre-Enhanced Vol', 'Pre-% Enhancement',\n",
    "              'Post-Image Date', 'Post-Image Type',\n",
    "              'Post-Location', 'Post-RECIST', 'Post-mRECIST',\n",
    "              'Post-Tumor Vol', 'Post-Enhanced Vol', 'Post-% Enhancement']\n",
    "\n",
    "embos = pd.DataFrame(columns=target_cols)"
   ]
  },
  {
   "cell_type": "code",
   "execution_count": 10,
   "metadata": {
    "collapsed": true,
    "scrolled": true
   },
   "outputs": [],
   "source": [
    "bl_date = \"Baseline 1 Date\"\n",
    "bl_type = \"Baseline 1 Type\"\n",
    "e_no = 1\n",
    "\n",
    "for t_no in range(3):\n",
    "    for mrn in list(bl_df[t_no].index):\n",
    "        row = bl_df[t_no].loc[mrn]\n",
    "        embo_date = row[\"EMBO \" + str(e_no) + \" Date\"]\n",
    "        embo_type = row[\"EMBO \" + str(e_no) + \" Type\"]\n",
    "        pre_img_date = row[\"Baseline 1 Date\"]\n",
    "        pre_img_type = row[\"Baseline 1 Type\"]\n",
    "        pre_data = list(row[bl_cols[t_no]])\n",
    "        \n",
    "        try:\n",
    "            row = fu1_df[1][t_no].loc[mrn]\n",
    "            post_img_date = row[\"Follow-Up \" + str(e_no) + \"-1 Date\"]\n",
    "            post_img_type = row[\"Follow-Up \" + str(e_no) + \"-1 Type\"]\n",
    "            post_data = list(row[fu1_cols[1][t_no]])\n",
    "        except KeyError:\n",
    "            try:\n",
    "                row = fu2_df[1][t_no].loc[mrn]\n",
    "                post_img_date = row[\"Follow-Up \" + str(e_no) + \"-2 Date\"]\n",
    "                post_img_type = row[\"Follow-Up \" + str(e_no) + \"-2 Type\"]\n",
    "                post_data = list(row[fu2_cols[1][t_no]])\n",
    "            except KeyError as e:\n",
    "                print(\"Cannot find F/U imaging for BL T%d: %s\" % (t_no+1, str(e)))\n",
    "                continue\n",
    "        \n",
    "        #try:\n",
    "        #    e_no_tumor = 1 + max(embos[(embos['MRN'] == mrn) & (embos['Tumor Number'] == t_no+1)]['Embo Num for Tumor'])\n",
    "        #except ValueError:\n",
    "        #    e_no_tumor = 1\n",
    "\n",
    "        embos = embos.append(pd.DataFrame([[mrn, np.nan, e_no, t_no+1, embo_date, embo_type,\n",
    "                      pre_img_date, pre_img_type] + pre_data +\n",
    "                      [post_img_date, post_img_type] + post_data], columns=target_cols))"
   ]
  },
  {
   "cell_type": "code",
   "execution_count": 11,
   "metadata": {
    "collapsed": true,
    "scrolled": true
   },
   "outputs": [],
   "source": [
    "for e_no in range(2,10):\n",
    "    for t_no in range(3):\n",
    "        for mrn in set(fu1_df[e_no-1][t_no].index).union(set(fu2_df[e_no-1][t_no].index)):\n",
    "            try:\n",
    "                row = fu2_df[e_no-1][t_no].loc[mrn]\n",
    "                pre_img_date = row[\"Follow-Up \" + str(e_no-1) + \"-2 Date\"]\n",
    "                pre_img_type = row[\"Follow-Up \" + str(e_no-1) + \"-2 Type\"]\n",
    "                pre_data = list(row[fu2_cols[e_no-1][t_no]])\n",
    "            except KeyError:\n",
    "                row = fu1_df[e_no-1][t_no].loc[mrn]\n",
    "                pre_img_date = row[\"Follow-Up \" + str(e_no-1) + \"-1 Date\"]\n",
    "                pre_img_type = row[\"Follow-Up \" + str(e_no-1) + \"-1 Type\"]\n",
    "                pre_data = list(row[fu1_cols[e_no-1][t_no]])\n",
    "                \n",
    "            embo_date = row[\"EMBO \" + str(e_no) + \" Date\"]\n",
    "            embo_type = row[\"EMBO \" + str(e_no) + \" Type\"]\n",
    "                \n",
    "            try:\n",
    "                post_img_date = fu1_df[e_no][t_no].loc[mrn][\"Follow-Up \" + str(e_no) + \"-1 Date\"]\n",
    "                post_img_type = fu1_df[e_no][t_no].loc[mrn][\"Follow-Up \" + str(e_no) + \"-1 Type\"]\n",
    "                post_data = list(fu1_df[e_no][t_no].loc[mrn][fu1_cols[e_no][t_no]])\n",
    "            except KeyError:\n",
    "                try:\n",
    "                    post_img_date = fu2_df[e_no][t_no].loc[mrn][\"Follow-Up \" + str(e_no) + \"-2 Date\"]\n",
    "                    post_img_type = fu2_df[e_no][t_no].loc[mrn][\"Follow-Up \" + str(e_no) + \"-2 Type\"]\n",
    "                    post_data = list(fu2_df[e_no][t_no].loc[mrn][fu2_cols[e_no][t_no]])\n",
    "                except KeyError as e:\n",
    "                    continue\n",
    "\n",
    "            #try:\n",
    "            #    e_no_tumor = 1 + max(embos[(embos['MRN'] == mrn) & (embos['Tumor Number'] == t_no+1)]['Embo Num for Tumor'])\n",
    "            #except ValueError:\n",
    "            #    e_no_tumor = 1\n",
    "\n",
    "            embos = embos.append(pd.DataFrame([[mrn, np.nan, e_no, t_no+1, embo_date, embo_type,\n",
    "                          pre_img_date, pre_img_type] + pre_data +\n",
    "                          [post_img_date, post_img_type] + post_data],\n",
    "                          columns=target_cols))"
   ]
  },
  {
   "cell_type": "markdown",
   "metadata": {},
   "source": [
    "Mark as questionable if this tumor has already been embolized, and another tumor was embolized in the same operation."
   ]
  },
  {
   "cell_type": "code",
   "execution_count": null,
   "metadata": {
    "collapsed": true
   },
   "outputs": [],
   "source": [
    "embos[\"Pre-% Enhancement\"] = embos.apply(lambda row: row[\"Pre-Enhanced Vol\"] * 100.0 / row[\"Pre-Tumor Vol\"], axis=1)\n",
    "embos[\"Post-% Enhancement\"] = embos.apply(lambda row: row[\"Post-Enhanced Vol\"] * 100.0 / row[\"Post-Tumor Vol\"], axis=1)"
   ]
  },
  {
   "cell_type": "code",
   "execution_count": 12,
   "metadata": {
    "collapsed": true,
    "scrolled": true
   },
   "outputs": [],
   "source": [
    "def interrogate(row):\n",
    "    \"\"\"Mark embo rows that might not be true embos.\n",
    "    This includes embos that meet the following criteria:\n",
    "    - At least one other tumor was embolized in the same operation\n",
    "    - This is not the first or last embo for this tumor\n",
    "    \"\"\"\n",
    "    mrn_subset = embos[embos[\"MRN\"] == row[\"MRN\"]]\n",
    "    max_embo = max(mrn_subset[mrn_subset[\"Tumor Number\"] == row[\"Tumor Number\"]][\"Embo Num for Patient\"])\n",
    "    \n",
    "    return len(mrn_subset[mrn_subset[\"Embo Num for Patient\"] == row[\"Embo Num for Patient\"]]) > 1 and \\\n",
    "           1 < row[\"Embo Num for Tumor\"] < max_embo\n",
    "    \n",
    "embos[\"Questionable\"] = embos.apply(lambda row: interrogate(row), axis=1)"
   ]
  },
  {
   "cell_type": "markdown",
   "metadata": {},
   "source": [
    "Renumber the tumor embos after filtering the questionable column"
   ]
  },
  {
   "cell_type": "code",
   "execution_count": 13,
   "metadata": {
    "collapsed": true,
    "scrolled": true
   },
   "outputs": [],
   "source": [
    "def renumber(row):\n",
    "    if row[\"Questionable\"]:\n",
    "        return np.nan\n",
    "    \n",
    "    ls = list(embos[(embos[\"Questionable\"] == False) & (embos[\"MRN\"] == row[\"MRN\"]) &\n",
    "             (embos[\"Tumor Number\"] == row[\"Tumor Number\"])][\"Embo Num for Patient\"])\n",
    "    \n",
    "    return sorted(ls).index(row[\"Embo Num for Patient\"]) + 1\n",
    "\n",
    "\n",
    "embos[\"Embo Num for Tumor\"] = embos.apply(lambda row: renumber(row), axis=1)"
   ]
  },
  {
   "cell_type": "code",
   "execution_count": 14,
   "metadata": {
    "collapsed": true,
    "scrolled": true
   },
   "outputs": [],
   "source": [
    "criteria = [\"RECIST\", \"mRECIST\", \"Enhanced Vol\", \"% Enhancement\"]\n",
    "pr_cutoffs = {\"RECIST\": 0.7, \"mRECIST\": 0.7, \"Enhanced Vol\": 0.35, \"% Enhancement\": 0.35}\n",
    "pd_cutoffs = {\"RECIST\": 1.2, \"mRECIST\": 1.2, \"Enhanced Vol\": 1.73, \"% Enhancement\": 1.73}\n",
    "cr_cutoffs = {\"RECIST\": 0.1, \"mRECIST\": 0.1, \"Enhanced Vol\": 0.05, \"% Enhancement\": 0.05}\n",
    "\n",
    "def assess_response(row, category):\n",
    "    if row[\"Post-\"+category] <= cr_cutoffs[category] * row[\"Pre-\"+category]:\n",
    "        return \"CR\"\n",
    "    elif row[\"Post-\"+category] <= pr_cutoffs[category] * row[\"Pre-\"+category]:\n",
    "        return \"PR\"\n",
    "    elif row[\"Post-\"+category] >= pd_cutoffs[category] * row[\"Pre-\"+category]:\n",
    "        return \"PD\"\n",
    "    else:\n",
    "        return \"SD\"\n",
    "\n",
    "for category in criteria:\n",
    "    embos = embos[embos[\"Pre-\"+category].apply(lambda x: type(x) == float)]\n",
    "    embos = embos[embos[\"Post-\"+category].apply(lambda x: type(x) == float)]\n",
    "    embos[\"Response: \"+category] = embos.apply(lambda row: assess_response(row, category), axis=1)"
   ]
  },
  {
   "cell_type": "code",
   "execution_count": 15,
   "metadata": {
    "collapsed": true,
    "scrolled": true
   },
   "outputs": [],
   "source": [
    "def check_progression(row, embos, time_cutoff=90):\n",
    "    if row[\"Embo Num for Tumor\"] == 1:\n",
    "        return np.nan\n",
    "    \n",
    "    e_date = row[\"Embo Date\"]\n",
    "    for e_no in range(row[\"Embo Num for Tumor\"]-1, 0, -1):\n",
    "        subset = embos[(embos[\"MRN\"] == row[\"MRN\"]) & (embos[\"Tumor Number\"] == row[\"Tumor Number\"])\n",
    "                       & (embos[\"Embo Num for Tumor\"] == e_no)]\n",
    "        dt_embo = (e_date - subset[\"Embo Date\"][0]).days\n",
    "        if dt_embo > time_cutoff:\n",
    "            return e_no\n",
    "        \n",
    "        e_date = subset[\"Embo Date\"][0]\n",
    "    \n",
    "    return np.nan\n",
    "\n",
    "embos[\"Last Embo Num for Tumor followed by Time Gap\"] = embos.apply(lambda row: check_progression(row, embos), axis=1)"
   ]
  },
  {
   "cell_type": "code",
   "execution_count": 16,
   "metadata": {
    "collapsed": true,
    "scrolled": true
   },
   "outputs": [],
   "source": [
    "def get_best_prev_resp(row, embos):\n",
    "    if row[\"Embo Num for Tumor\"] == 1:\n",
    "        return np.nan\n",
    "    \n",
    "    best_resp = 'PD'\n",
    "    for e_no in range(row[\"Embo Num for Tumor\"]-1, 0, -1):\n",
    "        resp = embos[(embos[\"MRN\"] == row[\"MRN\"]) & (embos[\"Tumor Number\"] == row[\"Tumor Number\"])\n",
    "                       & (embos[\"Embo Num for Tumor\"] == e_no)]['Response: Enhanced Vol'][0]\n",
    "        \n",
    "        if resp == 'CR':\n",
    "            return 'CR'\n",
    "        elif resp == 'PR':\n",
    "            best_resp = 'PR'\n",
    "        elif resp == 'SD' and best_resp != 'PR':\n",
    "            best_resp = 'SD'\n",
    "    \n",
    "    return best_resp\n",
    "    \n",
    "embos['Best Previous Response'] = embos.apply(lambda row: get_best_prev_resp(row, embos), axis=1)"
   ]
  },
  {
   "cell_type": "code",
   "execution_count": 17,
   "metadata": {
    "collapsed": true
   },
   "outputs": [],
   "source": [
    "def check_other_lesions(row, embos):\n",
    "    mrn_subset = embos[(embos[\"MRN\"] == row[\"MRN\"]) & (embos[\"Tumor Number\"] != row[\"Tumor Number\"])]\n",
    "    if len(mrn_subset) == 0:\n",
    "        return \"No other lesions\"\n",
    "    \n",
    "    t_nos = sorted(list(set(mrn_subset[\"Tumor Number\"])))\n",
    "    e_date = row[\"Embo Date\"]\n",
    "    ret = \"\"\n",
    "    \n",
    "    for cnt, t_no in enumerate(t_nos):\n",
    "        responses = list(mrn_subset[(mrn_subset[\"Tumor Number\"] == t_no) &\n",
    "                               (mrn_subset[\"Embo Date\"] < e_date)][\"Response: Enhanced Vol\"])\n",
    "        \n",
    "        if \"CR\" in responses:\n",
    "            ret += \"CR\"\n",
    "        elif \"PR\" in responses:\n",
    "            ret += \"PR\"\n",
    "        elif \"SD\" in responses:\n",
    "            ret += \"SD\"\n",
    "        elif \"PD\" in responses:\n",
    "            ret += \"PD\"\n",
    "        elif len(responses) > 0:\n",
    "            ret += \"Missing\"\n",
    "        else:\n",
    "            ret += \"Treated later\"\n",
    "            \n",
    "        if cnt < len(t_nos) - 1:\n",
    "            ret += \",\"\n",
    "    \n",
    "    return ret\n",
    "    \n",
    "    if row[\"Embo Num for Tumor\"] == 1:\n",
    "        return np.nan\n",
    "    \n",
    "    for e_no in range(row[\"Embo Num for Tumor\"]-1, 0, -1):\n",
    "        subset = embos[(embos[\"MRN\"] == row[\"MRN\"]) & (embos[\"Tumor Number\"] != row[\"Tumor Number\"])\n",
    "                       & (embos[\"Embo Num for Tumor\"] == e_no)]\n",
    "        dt_embo = (e_date - subset[\"Embo Date\"][0]).days\n",
    "        if dt_embo > time_cutoff:\n",
    "            return e_no\n",
    "        \n",
    "        e_date = subset[\"Embo Date\"][0]\n",
    "    \n",
    "    return np.nan\n",
    "\n",
    "embos[\"Best Previous Response (Enhanced Vol) of other Lesions\"] = embos.apply(lambda row: check_other_lesions(row, embos), axis=1)"
   ]
  },
  {
   "cell_type": "code",
   "execution_count": 18,
   "metadata": {
    "collapsed": true
   },
   "outputs": [],
   "source": [
    "def simplify_categories(resp):\n",
    "    if 'No other lesions' in resp:\n",
    "        return 'NOL'\n",
    "    elif 'Treated later' in resp:\n",
    "        return 'OLNT'\n",
    "    if 'CR' in resp:\n",
    "        return 'R'\n",
    "    elif 'PR' in resp:\n",
    "        return 'R'\n",
    "    else:\n",
    "        return 'NR'\n",
    "    \n",
    "embos['Best Previous Response (Enhanced Vol) of other Lesions'] = \\\n",
    "        embos['Best Previous Response (Enhanced Vol) of other Lesions'].apply(simplify_categories)"
   ]
  },
  {
   "cell_type": "code",
   "execution_count": 19,
   "metadata": {
    "collapsed": true
   },
   "outputs": [],
   "source": [
    "embos.to_excel(writer, sheet_name='Embos', index=False)"
   ]
  },
  {
   "cell_type": "markdown",
   "metadata": {},
   "source": [
    "## Patient-level analysis"
   ]
  },
  {
   "cell_type": "code",
   "execution_count": 20,
   "metadata": {
    "collapsed": true
   },
   "outputs": [],
   "source": [
    "embos = embos[embos[\"Questionable\"] == False]"
   ]
  },
  {
   "cell_type": "code",
   "execution_count": 21,
   "metadata": {
    "collapsed": true
   },
   "outputs": [],
   "source": [
    "target_cols = ['MRN', 'Total Embos', 'Total Tumors'] + \\\n",
    "               ['Total Pre-'+category for category in criteria] + \\\n",
    "               ['Total Post-'+category for category in criteria] + \\\n",
    "               ['Responder: '+category for category in criteria]\n",
    "\n",
    "patients = pd.DataFrame(columns=target_cols)"
   ]
  },
  {
   "cell_type": "code",
   "execution_count": 22,
   "metadata": {
    "collapsed": true,
    "scrolled": true
   },
   "outputs": [],
   "source": [
    "for mrn in set(embos[\"MRN\"]):\n",
    "    subset = embos[embos[\"MRN\"] == mrn]\n",
    "    tot_e = max(subset[\"Embo Num for Patient\"])\n",
    "    tot_t = max(subset[\"Tumor Number\"])\n",
    "\n",
    "    for category in criteria:\n",
    "        embos = embos[embos[\"Pre-\"+category].apply(lambda x: type(x) == float)]\n",
    "        embos = embos[embos[\"Post-\"+category].apply(lambda x: type(x) == float)]\n",
    "        embos[\"Response: \"+category] = embos.apply(lambda row: assess_response(row, category), axis=1)\n",
    "    \n",
    "    tot_pre_value = {}\n",
    "    for category in criteria:\n",
    "        tot_pre_value[category] = sum(subset[subset[\"Embo Num for Tumor\"] == 1][\"Pre-\"+category])\n",
    "        \n",
    "    tot_post_value = dict(zip(criteria, [0,0,0,0]))\n",
    "    responder = dict(zip(criteria, [True, True, True, True]))\n",
    "    for t_no in range(tot_t):\n",
    "        t_subset = subset[subset[\"Tumor Number\"] == t_no+1]\n",
    "        \n",
    "        if len(t_subset) == 0: # some t_nos are missing because they had non-numeric entries and were excluded\n",
    "            continue\n",
    "            \n",
    "        max_embo = max(t_subset[\"Embo Num for Tumor\"])\n",
    "\n",
    "        for category in criteria:\n",
    "            tot_post_value[category] += sum(t_subset[t_subset[\"Embo Num for Tumor\"] == max_embo][\"Post-\"+category])\n",
    "            \n",
    "            try:\n",
    "                if len(t_subset[(t_subset[\"Embo Num for Tumor\"] == max_embo) &\n",
    "                                (t_subset[\"Response: \"+category] == \"PD\")]) > 0:\n",
    "                    responder[category] = False # non-responder if any of the final embos on a tumor were \"unsuccessful\"\n",
    "            except:\n",
    "                responder[category] = np.nan\n",
    "        \n",
    "    new_row = pd.DataFrame([[mrn, tot_e, tot_t] +\n",
    "                            [tot_pre_value[category] for category in criteria] +\n",
    "                            [tot_post_value[category] for category in criteria] +\n",
    "                            [responder[category] for category in criteria]],\n",
    "                            columns=target_cols)\n",
    "    \n",
    "    patients = patients.append(new_row)"
   ]
  },
  {
   "cell_type": "code",
   "execution_count": 23,
   "metadata": {
    "collapsed": true
   },
   "outputs": [],
   "source": [
    "patients.set_index(\"MRN\", inplace=True)"
   ]
  },
  {
   "cell_type": "code",
   "execution_count": 24,
   "metadata": {
    "collapsed": true,
    "scrolled": true
   },
   "outputs": [],
   "source": [
    "patients = pd.concat([patients, clin_df], axis=1)"
   ]
  },
  {
   "cell_type": "markdown",
   "metadata": {},
   "source": [
    "## Scenario analysis"
   ]
  },
  {
   "cell_type": "code",
   "execution_count": 25,
   "metadata": {
    "collapsed": true
   },
   "outputs": [],
   "source": [
    "target_cols = ['MRN', 'Tumor Number', 'Number of Embos'] + \\\n",
    "              ['Initial Pre-'+category for category in criteria] + \\\n",
    "              ['Final Post-'+category for category in criteria] + \\\n",
    "              ['First Embo with Response - '+category for category in criteria] + \\\n",
    "              ['Embos to Overall Response - '+category for category in criteria] + \\\n",
    "              ['Days btwn embo %d and %d' % (x, x+1) for x in range(1,7)] + \\\n",
    "              ['Days btwn embo %d post image and embo %d pre image' % (x, x+1) for x in range(1,7)] + \\\n",
    "              ['Progression (enhanced vol) btwn embo %d post image and embo %d pre image' % (x, x+1) for x in range(1,7)]\n",
    "\n",
    "tumors = pd.DataFrame(columns=target_cols)"
   ]
  },
  {
   "cell_type": "code",
   "execution_count": 26,
   "metadata": {
    "collapsed": true
   },
   "outputs": [],
   "source": [
    "def get_overall_resp(resp):\n",
    "    if 'No other lesions' in resp:\n",
    "        return 'NOL'\n",
    "    elif 'Treated later' in resp:\n",
    "        return 'OLNT'\n",
    "    if 'CR' in resp:\n",
    "        return 'R'\n",
    "    elif 'PR' in resp:\n",
    "        return 'R'\n",
    "    else:\n",
    "        return 'NR'\n",
    "    \n",
    "embos['Best Previous Response (Enhanced Vol) of other Lesions'] = \\\n",
    "        embos['Best Previous Response (Enhanced Vol) of other Lesions'].apply(simplify_categories)"
   ]
  },
  {
   "cell_type": "code",
   "execution_count": 27,
   "metadata": {
    "collapsed": true
   },
   "outputs": [],
   "source": [
    "def get_diffs(t_subset, e_no, embo_diff):\n",
    "    dt_embo = (t_subset[t_subset[\"Embo Num for Tumor\"] == e_no + embo_diff][\"Embo Date\"] -\n",
    "                       t_subset[t_subset[\"Embo Num for Tumor\"] == e_no][\"Embo Date\"])[0].days\n",
    "\n",
    "    dt_img = (t_subset[t_subset[\"Embo Num for Tumor\"] == e_no + embo_diff][\"Pre-Image Date\"] -\n",
    "                      t_subset[t_subset[\"Embo Num for Tumor\"] == e_no][\"Post-Image Date\"])[0].days\n",
    "\n",
    "    if dt_img != 0:\n",
    "        tumor_change = (t_subset[t_subset[\"Embo Num for Tumor\"] == e_no + embo_diff][\"Pre-Enhanced Vol\"] / \\\n",
    "                                t_subset[t_subset[\"Embo Num for Tumor\"] == e_no][\"Post-Enhanced Vol\"])[0]\n",
    "        if tumor_change == 0:\n",
    "            tumor_change = \"Missing\"\n",
    "    else:\n",
    "        tumor_change = np.nan\n",
    "        \n",
    "    return dt_embo, dt_img, tumor_change"
   ]
  },
  {
   "cell_type": "code",
   "execution_count": 28,
   "metadata": {
    "collapsed": true
   },
   "outputs": [],
   "source": [
    "for mrn in set(embos[\"MRN\"]):\n",
    "    mrn_subset = embos[embos[\"MRN\"] == mrn]\n",
    "    tot_t = max(mrn_subset[\"Tumor Number\"])\n",
    "    \n",
    "    for t_no in range(1,tot_t+1):\n",
    "        t_subset = mrn_subset[mrn_subset[\"Tumor Number\"] == t_no]\n",
    "        \n",
    "        if len(t_subset) == 0:\n",
    "            continue\n",
    "            \n",
    "        max_embo = max(t_subset[\"Embo Num for Tumor\"])\n",
    "\n",
    "        init_pre_value = dict(zip(criteria, [np.nan]*4))\n",
    "        last_post_value = dict(zip(criteria, [np.nan]*4))\n",
    "        first_embo_with_response = dict(zip(criteria, [np.nan]*4))\n",
    "        embos_to_overall_response = dict(zip(criteria, [np.nan]*4))\n",
    "        for category in criteria:\n",
    "            try:\n",
    "                init_pre_value[category] = t_subset[t_subset[\"Embo Num for Tumor\"] == 1][\"Pre-\"+category][0]\n",
    "            except: #missing data\n",
    "                continue\n",
    "            last_post_value[category] = t_subset[t_subset[\"Embo Num for Tumor\"] == max_embo][\"Post-\"+category][0]\n",
    "            \n",
    "            \n",
    "            responding_embos = t_subset[t_subset[\"Response: \"+category].isin([\"PR\", \"CR\"])][\"Embo Num for Tumor\"]\n",
    "            if len(responding_embos) > 0:\n",
    "                first_embo_with_response[category] = min(responding_embos)\n",
    "            \n",
    "            \n",
    "            responding_embos = t_subset[t_subset[\"Post-\"+category] <= pr_cutoffs[category] * init_pre_value[category]][\"Embo Num for Tumor\"]\n",
    "            if len(responding_embos) > 0:\n",
    "                embos_to_overall_response[category] = min(responding_embos)\n",
    "                \n",
    "    \n",
    "        dt_embo = [np.nan]*7\n",
    "        dt_img = [np.nan]*7\n",
    "        tumor_change = [np.nan]*7\n",
    "        for e_no in range(1,max_embo):\n",
    "            dt_embo[e_no-1], dt_img[e_no-1], tumor_change[e_no-1] = get_diffs(t_subset, e_no, 1)\n",
    "        \n",
    "        new_row = pd.DataFrame([[mrn, t_no, max_embo] +\n",
    "                                [init_pre_value[category] for category in criteria] +\n",
    "                                [last_post_value[category] for category in criteria] +\n",
    "                                [first_embo_with_response[category] for category in criteria] +\n",
    "                                [embos_to_overall_response[category] for category in criteria] +\n",
    "                                [dt_embo[x] for x in range(6)] +\n",
    "                                [dt_img[x] for x in range(6)] +\n",
    "                                [tumor_change[x] for x in range(6)]],\n",
    "                                columns=target_cols)\n",
    "\n",
    "        tumors = tumors.append(new_row)"
   ]
  },
  {
   "cell_type": "code",
   "execution_count": 29,
   "metadata": {
    "collapsed": true
   },
   "outputs": [],
   "source": [
    "tumors.to_excel(writer, sheet_name='Tumors', index=False)"
   ]
  },
  {
   "cell_type": "code",
   "execution_count": 30,
   "metadata": {
    "collapsed": true,
    "scrolled": true
   },
   "outputs": [],
   "source": [
    "def categorize_intent(row, embos, time_cutoff=90):  \n",
    "    if row[\"Total Tumors\"] == 1:\n",
    "        return \"Single lesion planned\"\n",
    "\n",
    "    elif row[\"Total Tumors\"] == 2:\n",
    "        mrn_subset = embos[embos[\"MRN\"] == row[\"MRN\"]]\n",
    "\n",
    "        min_embo = min(mrn_subset[\"Embo Num for Patient\"])\n",
    "        first_t_no = mrn_subset[mrn_subset[\"Embo Num for Patient\"] == min_embo][\"Tumor Number\"]\n",
    "\n",
    "        if len(first_t_no) > 1:\n",
    "            return \"Multiple lesions planned simultaneously\"\n",
    "        first_t_no = first_t_no[0]\n",
    "\n",
    "        t1_subset = mrn_subset[mrn_subset[\"Tumor Number\"] == first_t_no]\n",
    "        t2_subset = mrn_subset[mrn_subset[\"Tumor Number\"] == (2 if first_t_no == 1 else 1)]\n",
    "\n",
    "        first_embo_for_t2 = t2_subset[t2_subset[\"Embo Num for Tumor\"] == 1]\n",
    "        date_of_t2_embo = first_embo_for_t2[\"Embo Date\"]\n",
    "\n",
    "        prev_embo_for_t1 = t1_subset[t1_subset[\"Embo Num for Patient\"] == \\\n",
    "                            first_embo_for_t2[\"Embo Num for Patient\"][0] - 1]\n",
    "        date_of_t1_embo = prev_embo_for_t1[\"Embo Date\"]\n",
    "\n",
    "        if (date_of_t2_embo - date_of_t1_embo)[0].days > time_cutoff:\n",
    "            return \"Multiple lesions unplanned\"\n",
    "        else:\n",
    "            return \"Multiple lesions planned sequentially\"\n",
    "\n",
    "    else:\n",
    "        return \"3 lesions\""
   ]
  },
  {
   "cell_type": "code",
   "execution_count": 31,
   "metadata": {
    "collapsed": true
   },
   "outputs": [],
   "source": [
    "patients.reset_index(inplace=True)\n",
    "patients.rename(columns = {'index':'MRN'}, inplace = True)\n",
    "patients['Category'] = patients.apply(lambda row: categorize_intent(row, embos), axis=1)\n",
    "patients.to_excel(writer, sheet_name='Patients', index=False)"
   ]
  },
  {
   "cell_type": "code",
   "execution_count": 32,
   "metadata": {
    "collapsed": true,
    "scrolled": true
   },
   "outputs": [],
   "source": [
    "writer.save()"
   ]
  },
  {
   "cell_type": "code",
   "execution_count": null,
   "metadata": {
    "collapsed": true
   },
   "outputs": [],
   "source": []
  },
  {
   "cell_type": "markdown",
   "metadata": {
    "collapsed": true
   },
   "source": [
    "import matplotlib.pyplot as plt\n",
    "%matplotlib inline\n",
    "dt = []\n",
    "for x in range(1,7):\n",
    "    dt.append(tumors['Days btwn embo %d and %d' % (x, x+1)].dropna().values)\n",
    "dt = [x for ls in dt for x in ls]\n",
    "\n",
    "plt.hist(dt, bins=50)"
   ]
  },
  {
   "cell_type": "code",
   "execution_count": null,
   "metadata": {
    "collapsed": true
   },
   "outputs": [],
   "source": []
  },
  {
   "cell_type": "code",
   "execution_count": 44,
   "metadata": {
    "collapsed": true,
    "scrolled": true
   },
   "outputs": [],
   "source": [
    "X = pd.get_dummies(embos, columns = ['Embo Type','Best Previous Response','Best Previous Response (Enhanced Vol) of other Lesions'], drop_first = True)\n",
    "#X = embos[['Embo Type','Best Previous Response (Enhanced Vol) of other Lesions']]\n",
    "embos['resp_bin'] = embos['Response: Enhanced Vol'].isin(['PR', 'CR'])\n",
    "y = embos.resp_bin"
   ]
  },
  {
   "cell_type": "code",
   "execution_count": 45,
   "metadata": {
    "collapsed": true
   },
   "outputs": [],
   "source": [
    "cols = [x for x in X.columns if 'Best Previous Response' in x or 'Embo Type' in x]\n",
    "X = X[cols]"
   ]
  },
  {
   "cell_type": "code",
   "execution_count": 74,
   "metadata": {
    "scrolled": true
   },
   "outputs": [
    {
     "data": {
      "text/plain": [
       "0.69565217391304346"
      ]
     },
     "execution_count": 74,
     "metadata": {},
     "output_type": "execute_result"
    }
   ],
   "source": [
    "# instantiate a logistic regression model, and fit with X and y\n",
    "model = LogisticRegression(penalty='l1')\n",
    "model = model.fit(X.drop(['Embo Type_Lipiodol', 'Embo Type_Y90'], axis=1), y)\n",
    "\n",
    "# check the accuracy on the training set\n",
    "model.score(X.drop(['Embo Type_Lipiodol', 'Embo Type_Y90'], axis=1),y)"
   ]
  },
  {
   "cell_type": "code",
   "execution_count": 59,
   "metadata": {},
   "outputs": [
    {
     "data": {
      "text/plain": [
       "0.69565217391304346"
      ]
     },
     "execution_count": 59,
     "metadata": {},
     "output_type": "execute_result"
    }
   ],
   "source": [
    "1-y.mean()"
   ]
  },
  {
   "cell_type": "code",
   "execution_count": 146,
   "metadata": {},
   "outputs": [
    {
     "data": {
      "text/plain": [
       "array([[ 0.01470229, -0.69234012, -0.15298483,  0.42753399,  0.64019158]])"
      ]
     },
     "execution_count": 146,
     "metadata": {},
     "output_type": "execute_result"
    }
   ],
   "source": [
    "model.coef_"
   ]
  },
  {
   "cell_type": "code",
   "execution_count": 75,
   "metadata": {},
   "outputs": [
    {
     "name": "stdout",
     "output_type": "stream",
     "text": [
      "Optimization terminated successfully.\n",
      "         Current function value: 0.661549\n",
      "         Iterations 5\n"
     ]
    },
    {
     "data": {
      "text/html": [
       "<table class=\"simpletable\">\n",
       "<caption>Logit Regression Results</caption>\n",
       "<tr>\n",
       "  <th>Dep. Variable:</th>     <td>resp_bin</td>     <th>  No. Observations:  </th>  <td>   161</td> \n",
       "</tr>\n",
       "<tr>\n",
       "  <th>Model:</th>               <td>Logit</td>      <th>  Df Residuals:      </th>  <td>   155</td> \n",
       "</tr>\n",
       "<tr>\n",
       "  <th>Method:</th>               <td>MLE</td>       <th>  Df Model:          </th>  <td>     5</td> \n",
       "</tr>\n",
       "<tr>\n",
       "  <th>Date:</th>          <td>Thu, 21 Sep 2017</td> <th>  Pseudo R-squ.:     </th> <td>-0.07656</td>\n",
       "</tr>\n",
       "<tr>\n",
       "  <th>Time:</th>              <td>16:36:07</td>     <th>  Log-Likelihood:    </th> <td> -106.51</td>\n",
       "</tr>\n",
       "<tr>\n",
       "  <th>converged:</th>           <td>True</td>       <th>  LL-Null:           </th> <td> -98.935</td>\n",
       "</tr>\n",
       "<tr>\n",
       "  <th> </th>                      <td> </td>        <th>  LLR p-value:       </th>  <td> 1.000</td> \n",
       "</tr>\n",
       "</table>\n",
       "<table class=\"simpletable\">\n",
       "<tr>\n",
       "                               <td></td>                                  <th>coef</th>     <th>std err</th>      <th>z</th>      <th>P>|z|</th>  <th>[0.025</th>    <th>0.975]</th>  \n",
       "</tr>\n",
       "<tr>\n",
       "  <th>Best Previous Response_PD</th>                                   <td>   -0.4055</td> <td>    0.913</td> <td>   -0.444</td> <td> 0.657</td> <td>   -2.195</td> <td>    1.384</td>\n",
       "</tr>\n",
       "<tr>\n",
       "  <th>Best Previous Response_PR</th>                                   <td>   -0.3636</td> <td>    0.682</td> <td>   -0.533</td> <td> 0.594</td> <td>   -1.700</td> <td>    0.973</td>\n",
       "</tr>\n",
       "<tr>\n",
       "  <th>Best Previous Response_SD</th>                                   <td>   -0.8107</td> <td>    0.410</td> <td>   -1.976</td> <td> 0.048</td> <td>   -1.615</td> <td>   -0.007</td>\n",
       "</tr>\n",
       "<tr>\n",
       "  <th>Best Previous Response (Enhanced Vol) of other Lesions_NR</th>   <td>   -1.2528</td> <td>    0.802</td> <td>   -1.562</td> <td> 0.118</td> <td>   -2.824</td> <td>    0.319</td>\n",
       "</tr>\n",
       "<tr>\n",
       "  <th>Best Previous Response (Enhanced Vol) of other Lesions_OLNT</th> <td>   -0.2086</td> <td>    0.337</td> <td>   -0.618</td> <td> 0.536</td> <td>   -0.870</td> <td>    0.453</td>\n",
       "</tr>\n",
       "<tr>\n",
       "  <th>Best Previous Response (Enhanced Vol) of other Lesions_R</th>    <td>   -0.2464</td> <td>    0.502</td> <td>   -0.491</td> <td> 0.623</td> <td>   -1.230</td> <td>    0.737</td>\n",
       "</tr>\n",
       "</table>"
      ],
      "text/plain": [
       "<class 'statsmodels.iolib.summary.Summary'>\n",
       "\"\"\"\n",
       "                           Logit Regression Results                           \n",
       "==============================================================================\n",
       "Dep. Variable:               resp_bin   No. Observations:                  161\n",
       "Model:                          Logit   Df Residuals:                      155\n",
       "Method:                           MLE   Df Model:                            5\n",
       "Date:                Thu, 21 Sep 2017   Pseudo R-squ.:                -0.07656\n",
       "Time:                        16:36:07   Log-Likelihood:                -106.51\n",
       "converged:                       True   LL-Null:                       -98.935\n",
       "                                        LLR p-value:                     1.000\n",
       "===============================================================================================================================\n",
       "                                                                  coef    std err          z      P>|z|      [0.025      0.975]\n",
       "-------------------------------------------------------------------------------------------------------------------------------\n",
       "Best Previous Response_PD                                      -0.4055      0.913     -0.444      0.657      -2.195       1.384\n",
       "Best Previous Response_PR                                      -0.3636      0.682     -0.533      0.594      -1.700       0.973\n",
       "Best Previous Response_SD                                      -0.8107      0.410     -1.976      0.048      -1.615      -0.007\n",
       "Best Previous Response (Enhanced Vol) of other Lesions_NR      -1.2528      0.802     -1.562      0.118      -2.824       0.319\n",
       "Best Previous Response (Enhanced Vol) of other Lesions_OLNT    -0.2086      0.337     -0.618      0.536      -0.870       0.453\n",
       "Best Previous Response (Enhanced Vol) of other Lesions_R       -0.2464      0.502     -0.491      0.623      -1.230       0.737\n",
       "===============================================================================================================================\n",
       "\"\"\""
      ]
     },
     "execution_count": 75,
     "metadata": {},
     "output_type": "execute_result"
    }
   ],
   "source": [
    "logit = sm.Logit(y, X.drop(['Embo Type_Lipiodol', 'Embo Type_Y90'], axis=1))\n",
    "result = logit.fit()\n",
    "result.summary()"
   ]
  },
  {
   "cell_type": "code",
   "execution_count": null,
   "metadata": {
    "collapsed": true
   },
   "outputs": [],
   "source": []
  }
 ],
 "metadata": {
  "kernelspec": {
   "display_name": "Python 3",
   "language": "python",
   "name": "python3"
  },
  "language_info": {
   "codemirror_mode": {
    "name": "ipython",
    "version": 3
   },
   "file_extension": ".py",
   "mimetype": "text/x-python",
   "name": "python",
   "nbconvert_exporter": "python",
   "pygments_lexer": "ipython3",
   "version": "3.5.0"
  }
 },
 "nbformat": 4,
 "nbformat_minor": 2
}
